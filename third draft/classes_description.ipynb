{
 "cells": [
  {
   "attachments": {},
   "cell_type": "markdown",
   "metadata": {},
   "source": [
    "## Classes description\n",
    "\n",
    "### class Processor\n",
    "\n",
    "<b>Attributes</b><br>\n",
    "<code>batch_size</code> the size of the batches to process (int)<br>\n",
    "<code>max_workers</code> the number of cpu workers to split the parallel processing<br>\n",
    "\n",
    "\n",
    "### class Playarists Processor(Processor)\n",
    "\n",
    "<b>Attributes</b><br>\n",
    "<code>meta_path</code> the path to the OpenCitations Meta dump (needs to be unzipped)<br>\n",
    "<code>erih_path</code> the path to the ERIH-PLUS dataset that is automatically initialized as a dataframe<br>\n",
    "<code>doaj_path</code> the path to the DOAJ dataset that is automatically initialized as a dataframe<br>\n",
    "\n",
    "\n",
    "<b>Methods</b><br>\n",
    "<code>get_erih_df()</code> the method to return the ERIH-PLUS DataFrame<br>\n",
    "<code>get_doaj_df()</code> the method to return the DOAJ DataFrame<br>\n",
    "<code>process_files</code> returns a DataFrame with OpenCitations Meta SSH Journals included in ERIH-PLUS dataset and their Open_Access information (OC_omid, issn, EP_id, Publications_in_venue, Open Access)<br>\n",
    "\n",
    "<hr>\n",
    "\n",
    "### class ResultsProcessor\n",
    "\n",
    "<b>Attributes</b><br>\n",
    "<code>meta_coverage</code> a <span style= \"color: green;\">PlayaristsProcessor</span> object initialized as the result of the <span style= \"color: blue;\">process_files()</span> method<br>\n",
    "<code>erih_df</code> the ERIH_PLUS DataFrame initialized by calling the <span style= \"color: blue;\">get_erih_df()</span> on the PlayaristsProcessor object<br>\n",
    "<code>doaj_df</code> the DOAJ DataFrame initialized by calling the <span style= \"color: blue;\">get_doaj_df()</span> on the PlayaristsProcessor object<br>\n",
    "\n",
    "\n",
    "<hr>\n",
    "\n",
    "### class CountriesProcessor(ResultsProcessor)\n",
    "\n",
    "<b>Attributes</b><br>\n",
    "<code>doaj_df</code> a DOAJ sub-DataFrame with only issn and country columns\n",
    "\n",
    "\n",
    "<b>Methods</b><br>\n",
    "<code>create_countries_dict()</code> a method that returns a dictionary with Countries as keys and a list of each country's venue as value\n",
    "<hr>\n",
    "\n",
    "### class DisciplinesProcessor(ResultsProcessor)\n",
    "\n",
    "<b>Methods</b><br>\n",
    "<code>create_disciplines_dict()</code> a method that returns a dictionary with Disciplines as keys and a list of each discipline's venue as value\n",
    "\n",
    "<hr>\n",
    "\n",
    "### class CountsProcessor(ResultsProcessor)\n",
    "\n",
    "<b>Attributes</b><br>\n",
    "<code>export_path</code> the export path of the result file<br>\n",
    "\n",
    "\n",
    "<b>Methods</b><br>\n",
    "<code>counts()</code> takes in input a <span style= \"color: green;\">DisciplinesProcessor</span> or a <span style= \"color: green;\">CountriesProcessor</span>and a label (str) and returns a DataFrame with Label column (either Countries or Disciplines according to the dictionary in input), the count of venues and the count of Publications.\n"
   ]
  },
  {
   "attachments": {},
   "cell_type": "markdown",
   "metadata": {},
   "source": [
    "In the <code>run_workflow.py</code> the classes are used to run the software and obtain results."
   ]
  }
 ],
 "metadata": {
  "language_info": {
   "name": "python"
  },
  "orig_nbformat": 4
 },
 "nbformat": 4,
 "nbformat_minor": 2
}
